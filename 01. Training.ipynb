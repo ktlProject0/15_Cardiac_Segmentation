{
 "cells": [
  {
   "cell_type": "code",
   "execution_count": null,
   "id": "44826bed",
   "metadata": {},
   "outputs": [],
   "source": [
    "import model_torch\n",
    "import modules_torch\n",
    "import _utils_torch\n",
    "from Preprocessing import *\n",
    "from _utils_torch import *\n",
    "import loss"
   ]
  },
  {
   "cell_type": "code",
   "execution_count": null,
   "id": "42eb096f",
   "metadata": {},
   "outputs": [],
   "source": [
    "os.environ[\"CUDA_VISIBLE_DEVICES\"] = \"0\"\n",
    "\n",
    "print(torch.cuda.is_available())"
   ]
  },
  {
   "cell_type": "code",
   "execution_count": null,
   "id": "f098ee79-f92d-4031-90db-51eee7616545",
   "metadata": {},
   "outputs": [],
   "source": [
    "data_dir = '../Data'\n",
    "data_list = os.listdir(data_dir)\n",
    "\n",
    "S1_list = []\n",
    "S2_list = []\n",
    "for item in data_list:\n",
    "    if 'S1' in item:\n",
    "        S1_list.append(item)\n",
    "    elif 'S2' in item:\n",
    "        S2_list.append(item)"
   ]
  },
  {
   "cell_type": "code",
   "execution_count": null,
   "id": "cac6d555-0a4b-4485-89e4-7716cb300bc4",
   "metadata": {},
   "outputs": [],
   "source": [
    "train_data_list = S1_list[:5] + S2_list[:5]\n",
    "test_data_list = S1_list[5:] + S2_list[5:]"
   ]
  },
  {
   "cell_type": "code",
   "execution_count": null,
   "id": "9c7c44cc-ea11-4c71-886b-94eeb110c2ba",
   "metadata": {
    "scrolled": true
   },
   "outputs": [],
   "source": [
    "X_train, Y_train, X_test, Y_test = preprocessing(train_data_list, test_data_list)"
   ]
  },
  {
   "cell_type": "code",
   "execution_count": null,
   "id": "64cdeba2-2420-4bb3-b000-d932b6d0acc7",
   "metadata": {},
   "outputs": [],
   "source": [
    "print(X_train.shape, X_train.min(), X_train.max(), X_train.dtype)\n",
    "print(Y_train.shape, Y_train.min(), Y_train.max(), Y_train.dtype)\n",
    "print(X_test.shape, X_test.min(), X_test.max(), X_test.dtype)\n",
    "print(Y_test.shape, Y_test.min(), Y_test.max(), Y_test.dtype)"
   ]
  },
  {
   "cell_type": "code",
   "execution_count": null,
   "id": "2ffc3848",
   "metadata": {},
   "outputs": [],
   "source": [
    "h_params=EasyDict()\n",
    "h_params.gpu_num=0\n",
    "h_params.seed=42\n",
    "\n",
    "h_params.total_epoch=100\n",
    "h_params.batch_size=32\n",
    "h_params.lr=1e-3\n",
    "h_params.lr_schedule_patience=3\n",
    "h_params.earlystop_patience=5\n",
    "\n",
    "h_params.model_name = \"./output/model.pth\"\n",
    "h_params.model_save_base = os.path.join(os.getcwd(),\"./output/train_log\")\n",
    "\n",
    "now = time.localtime(time.time())\n",
    "h_params.trial_ = f\"{now.tm_year}{now.tm_mon:02d}{now.tm_mday:02d}_{now.tm_hour:02d}{now.tm_min:02d}\"\n",
    "h_params.trial_path =os.path.join(h_params.model_save_base,h_params.trial_)\n",
    "h_params.model_save_path = os.path.join(h_params.trial_path,h_params.model_name)"
   ]
  },
  {
   "cell_type": "code",
   "execution_count": null,
   "id": "a03590d5",
   "metadata": {},
   "outputs": [],
   "source": [
    "os.makedirs(h_params.trial_path, exist_ok=True)\n",
    "device = torch.device(f\"cuda:{h_params.gpu_num}\" if torch.cuda.is_available() else 'cpu')"
   ]
  },
  {
   "cell_type": "code",
   "execution_count": null,
   "id": "57ba653a",
   "metadata": {},
   "outputs": [],
   "source": [
    "train_transform = A.Compose([\n",
    "    A.ShiftScaleRotate(shift_limit=(-.01, .01),\n",
    "                       scale_limit=(-.01, .01),\n",
    "                       rotate_limit=(-1, 1),p=0.01),\n",
    "    A.RandomBrightnessContrast(brightness_limit=0.001,\n",
    "                               contrast_limit=0.001,\n",
    "                               p=0.01),\n",
    "    \n",
    "    A.Resize(width=512, height=512),\n",
    "    ToTensorV2(),\n",
    "\n",
    "], p=1)\n",
    "\n",
    "val_transform = A.Compose([\n",
    "    A.Resize(width=512, height=512),\n",
    "    ToTensorV2(),\n",
    "], p=1)"
   ]
  },
  {
   "cell_type": "code",
   "execution_count": null,
   "id": "1ff6d5bf",
   "metadata": {},
   "outputs": [],
   "source": [
    "train_dataset = custom_dataset(img=X_train,\n",
    "                               mask=Y_train,\n",
    "                               transform=train_transform)\n",
    "\n",
    "train_dataloader = DataLoader(dataset=train_dataset,\n",
    "                              batch_size=h_params.batch_size,\n",
    "                              shuffle=True)"
   ]
  },
  {
   "cell_type": "code",
   "execution_count": null,
   "id": "5a75e88c",
   "metadata": {
    "scrolled": true
   },
   "outputs": [],
   "source": [
    "for idx in range(150,200):\n",
    "    sample = train_dataset[idx]\n",
    "    sam_img = sample['image']\n",
    "    sam_mask = sample['mask']\n",
    "\n",
    "    if sam_mask.max() < 1:\n",
    "        continue\n",
    "    \n",
    "    print(sam_img.shape, sam_img.min(), sam_img.max(), sam_img.dtype)\n",
    "    print(sam_mask.shape, sam_mask.min(), sam_mask.max(), sam_mask.dtype)\n",
    "\n",
    "    plt.figure(figsize=(7,7))\n",
    "    plt.subplot(131)\n",
    "    plt.imshow(sam_img[0,...], cmap='gray')\n",
    "    plt.axis('off')\n",
    "    plt.subplot(132)\n",
    "    plt.imshow(sam_mask, cmap='gray')\n",
    "    plt.axis('off')\n",
    "    plt.subplot(133)\n",
    "    plt.imshow(sam_img[0,...], cmap='gray')\n",
    "    plt.imshow(sam_mask, cmap='jet', alpha=.5)\n",
    "    plt.axis('off')\n",
    "    plt.show()"
   ]
  },
  {
   "cell_type": "code",
   "execution_count": null,
   "id": "664131c3",
   "metadata": {
    "scrolled": true
   },
   "outputs": [],
   "source": [
    "model = model_torch.Unet(\n",
    "    encoder_name='resnet34',\n",
    "    encoder_depth=5,\n",
    "    encoder_weights='imagenet',\n",
    "    in_channels=1, \n",
    "    classes=1,\n",
    "    activation=None,\n",
    "    )\n",
    "\n",
    "model = model.to(device)"
   ]
  },
  {
   "cell_type": "code",
   "execution_count": null,
   "id": "faaeb8bf",
   "metadata": {},
   "outputs": [],
   "source": [
    "optim = torch.optim.Adam(params=model.parameters(),lr = h_params.lr)\n",
    "scheduler = torch.optim.lr_scheduler.ReduceLROnPlateau(optim,patience=h_params.lr_schedule_patience)\n",
    "\n",
    "criterion_dice = loss.DiceLoss(mode='binary', smooth=1e-07)\n",
    "criterion_focal = loss.FocalLoss(mode='binary')\n",
    "\n",
    "monitor = EarlyStopping(patience=h_params.earlystop_patience,\n",
    "                        verbose=True,\n",
    "                        delta=0,\n",
    "                        path=h_params.model_name,\n",
    "                        trace_func=print)"
   ]
  },
  {
   "cell_type": "code",
   "execution_count": null,
   "id": "e17d81a6",
   "metadata": {},
   "outputs": [],
   "source": [
    "def train_show(image,target,pred):\n",
    "    plt.figure(figsize=(8,8))\n",
    "    plt.subplot(131)\n",
    "    plt.imshow(image.cpu().detach().numpy()[0,0,...], cmap='gray')\n",
    "    plt.axis('off')\n",
    "    plt.subplot(132)\n",
    "    plt.imshow(image.cpu().detach().numpy()[0,0,...], cmap='gray')\n",
    "    plt.imshow(target.cpu().detach().numpy()[0,...], cmap='jet', alpha=.5)\n",
    "    plt.axis('off')\n",
    "    plt.subplot(133)\n",
    "    plt.imshow(image.cpu().detach().numpy()[0,0,...], cmap='gray')\n",
    "    plt.imshow(pred.cpu().detach().numpy()[0,0,...], cmap='jet', alpha=.5)\n",
    "    plt.axis('off')\n",
    "    plt.show()"
   ]
  },
  {
   "cell_type": "code",
   "execution_count": null,
   "id": "734668ca",
   "metadata": {
    "scrolled": true
   },
   "outputs": [],
   "source": [
    "metric_logger = {k:[] for k in ['train_loss','train_dice','lr']}\n",
    "\n",
    "total_train_num = len(train_dataloader.sampler)\n",
    "\n",
    "for epoch in range(h_params.total_epoch):\n",
    "    for param in optim.param_groups:\n",
    "        lr_stauts = param['lr']\n",
    "    metric_logger['lr'].append(lr_stauts)\n",
    "    epoch_loss = {k:0 for k in metric_logger if k not in ['lr']}\n",
    "    model.train()\n",
    "\n",
    "    for batch_idx, data in enumerate(tqdm(train_dataloader, total=len(train_dataloader), position=0, desc='Train', colour='blue')):\n",
    "        batch_num = len(data['image'])\n",
    "        \n",
    "        image = data['image'].to(device, dtype=torch.float)\n",
    "        target = data['mask'].to(device, dtype=torch.long)\n",
    "        \n",
    "        pred = model(image)\n",
    "        \n",
    "        focal_loss = criterion_focal(pred, target)\n",
    "        dice_loss = criterion_dice(pred, target)\n",
    "        loss = focal_loss + dice_loss\n",
    "        \n",
    "        optim.zero_grad()\n",
    "        loss.backward()\n",
    "        optim.step()\n",
    "        \n",
    "        if batch_idx ==0:\n",
    "            train_show(image,target,pred.sigmoid())\n",
    "        \n",
    "        epoch_loss['train_dice'] += dice_loss.item()*batch_num\n",
    "        epoch_loss['train_loss'] += loss.item()*batch_num\n",
    "\n",
    "    epoch_loss = {k:(v/total_train_num if 'train' in k else v/total_val_num) for k,v in epoch_loss.items()}\n",
    "\n",
    "    monitor(epoch_loss['train_loss'], model)\n",
    "    if monitor.early_stop:\n",
    "        print(f\"Train early stopped, Minimum validation loss: {monitor.val_loss_min}\")\n",
    "        break\n",
    "    \n",
    "    scheduler.step(epoch_loss['train_loss'])\n",
    "\n",
    "    print(f\"Epoch {epoch+1:03d}/{h_params.total_epoch:03d}\\tLR: {lr_stauts:.0e}\\n\\\n",
    "          Train_loss: {epoch_loss['train_loss']:.7f}\\tTrain_dice_loss-> {epoch_loss['train_dice']}\")"
   ]
  },
  {
   "cell_type": "code",
   "execution_count": null,
   "id": "6c92267a",
   "metadata": {},
   "outputs": [],
   "source": []
  },
  {
   "cell_type": "code",
   "execution_count": null,
   "id": "5cf5dc87",
   "metadata": {},
   "outputs": [],
   "source": []
  },
  {
   "cell_type": "code",
   "execution_count": null,
   "id": "af0a39c2",
   "metadata": {},
   "outputs": [],
   "source": []
  }
 ],
 "metadata": {
  "kernelspec": {
   "display_name": "Python 3 (ipykernel)",
   "language": "python",
   "name": "python3"
  },
  "language_info": {
   "codemirror_mode": {
    "name": "ipython",
    "version": 3
   },
   "file_extension": ".py",
   "mimetype": "text/x-python",
   "name": "python",
   "nbconvert_exporter": "python",
   "pygments_lexer": "ipython3",
   "version": "3.9.20"
  }
 },
 "nbformat": 4,
 "nbformat_minor": 5
}
